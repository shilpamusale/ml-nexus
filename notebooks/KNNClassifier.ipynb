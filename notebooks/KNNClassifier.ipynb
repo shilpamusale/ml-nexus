{
 "cells": [
  {
   "cell_type": "code",
   "execution_count": 1,
   "id": "a9fc9bd1",
   "metadata": {},
   "outputs": [],
   "source": [
    "import numpy as np\n",
    "from mlnexus.neighbors._knn import MyKNNClassifier\n",
    "from sklearn.datasets import load_breast_cancer\n",
    "from sklearn.model_selection import train_test_split"
   ]
  },
  {
   "cell_type": "code",
   "execution_count": 2,
   "id": "fd1d59f4",
   "metadata": {},
   "outputs": [
    {
     "name": "stdout",
     "output_type": "stream",
     "text": [
      "Data shape: (569, 30)\n",
      "Target names: ['malignant' 'benign']\n",
      "Unique target values: [0 1]\n",
      " X_train - (455, 30)\n",
      " X_test - (114, 30)\n",
      " y_train - (455,)\n",
      " y_test - (114,)\n"
     ]
    }
   ],
   "source": [
    "# Load Dataset\n",
    "\n",
    "ds = load_breast_cancer()\n",
    "X, y = ds.data, ds.target\n",
    "print(f\"Data shape: {X.shape}\")\n",
    "print(f\"Target names: {ds.target_names}\")\n",
    "print(f\"Unique target values: {np.unique(y)}\")\n",
    "\n",
    "\n",
    "X_train, X_test, y_train,y_test = train_test_split(X,y, test_size=0.2, random_state=42)\n",
    "\n",
    "print(f\" X_train - {X_train.shape}\")\n",
    "print(f\" X_test - {X_test.shape}\")\n",
    "print(f\" y_train - {y_train.shape}\")\n",
    "print(f\" y_test - {y_test.shape}\")"
   ]
  },
  {
   "cell_type": "code",
   "execution_count": 4,
   "id": "748c558b",
   "metadata": {},
   "outputs": [
    {
     "name": "stdout",
     "output_type": "stream",
     "text": [
      "accuracy = 0.956140350877193\n",
      "precision = 0.9342105263157895\n",
      "true_positive = 71\n",
      "false_positive = 5\n",
      "false_negative = 0\n",
      "recall = 1.0\n",
      "f1_score = 0.9659863945578232\n"
     ]
    }
   ],
   "source": [
    "knn = MyKNNClassifier(k = 5)\n",
    "knn.fit(X_train, y_train)\n",
    "predictions = knn.predict(X_test)\n",
    "metrics = knn.evaluate(X_test, y_test, predictions, positive_class_label=1, negative_class_label=0)\n",
    "for key, value in metrics.items():\n",
    "    print(f\"{key} = {value}\")\n",
    "\n"
   ]
  }
 ],
 "metadata": {
  "kernelspec": {
   "display_name": "venv",
   "language": "python",
   "name": "python3"
  },
  "language_info": {
   "codemirror_mode": {
    "name": "ipython",
    "version": 3
   },
   "file_extension": ".py",
   "mimetype": "text/x-python",
   "name": "python",
   "nbconvert_exporter": "python",
   "pygments_lexer": "ipython3",
   "version": "3.12.1"
  }
 },
 "nbformat": 4,
 "nbformat_minor": 5
}
