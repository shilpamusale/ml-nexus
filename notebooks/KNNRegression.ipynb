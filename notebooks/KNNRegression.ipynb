{
 "cells": [
  {
   "cell_type": "code",
   "execution_count": 1,
   "id": "fc63b472",
   "metadata": {},
   "outputs": [],
   "source": [
    "import numpy as np\n",
    "from mlnexus.neighbors._knn import MyKNNRegression\n",
    "from sklearn.datasets import fetch_california_housing\n",
    "from sklearn.model_selection import train_test_split\n"
   ]
  },
  {
   "cell_type": "code",
   "execution_count": 2,
   "id": "7678fbac",
   "metadata": {},
   "outputs": [
    {
     "name": "stdout",
     "output_type": "stream",
     "text": [
      "Data shape: (20640, 8)\n",
      "Target shape: (20640,)\n",
      " ~~~~~~~~~~~~~~~~~ Training Dataset\n",
      "X_train shape: (16512, 8)\n",
      "y_train shape: (16512,)\n",
      " ~~~~~~~~~~~~~~~~~ Test Dataset\n",
      "X_test shape: (4128, 8)\n",
      "y_test shape: (4128,)\n"
     ]
    }
   ],
   "source": [
    "# Load the dataset\n",
    "housing = fetch_california_housing()\n",
    "X, y = housing.data, housing.target\n",
    "X_train, X_test, y_train, y_test = train_test_split(X, y, test_size=0.2, random_state=42)\n",
    "\n",
    "print(f\"Data shape: {X.shape}\")\n",
    "print(f\"Target shape: {y.shape}\")\n",
    "\n",
    "print(f\" ~~~~~~~~~~~~~~~~~ Training Dataset\")\n",
    "print(f\"X_train shape: {X_train.shape}\")\n",
    "print(f\"y_train shape: {y_train.shape}\")\n",
    "\n",
    "print(f\" ~~~~~~~~~~~~~~~~~ Test Dataset\")\n",
    "print(f\"X_test shape: {X_test.shape}\")\n",
    "print(f\"y_test shape: {y_test.shape}\")"
   ]
  },
  {
   "cell_type": "code",
   "execution_count": 6,
   "id": "7cfd5b4b",
   "metadata": {},
   "outputs": [],
   "source": [
    "knn = MyKNNRegression(3)\n",
    "knn.fit(X_train, y_train)\n",
    "predictions = knn.predict(X_test)"
   ]
  },
  {
   "cell_type": "code",
   "execution_count": 7,
   "id": "31b5e96e",
   "metadata": {},
   "outputs": [
    {
     "name": "stdout",
     "output_type": "stream",
     "text": [
      "Mean_Absolute_Error = 0.8304867425710595\n",
      "Root_Mean_Square_Error = 1.0813946591563401\n",
      "r2_squared = 0.10759585116572867\n"
     ]
    }
   ],
   "source": [
    "metrics = knn.evaluate(y_test, predictions)\n",
    "\n",
    "for key, value in metrics.items():\n",
    "    print(f\"{key} = {value}\")"
   ]
  }
 ],
 "metadata": {
  "kernelspec": {
   "display_name": "venv",
   "language": "python",
   "name": "python3"
  },
  "language_info": {
   "codemirror_mode": {
    "name": "ipython",
    "version": 3
   },
   "file_extension": ".py",
   "mimetype": "text/x-python",
   "name": "python",
   "nbconvert_exporter": "python",
   "pygments_lexer": "ipython3",
   "version": "3.12.1"
  }
 },
 "nbformat": 4,
 "nbformat_minor": 5
}
